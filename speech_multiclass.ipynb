{
 "cells": [
  {
   "cell_type": "markdown",
   "id": "e4cbd18c",
   "metadata": {},
   "source": [
    "# Notebook for speaker recognition"
   ]
  },
  {
   "cell_type": "markdown",
   "id": "4e90e006",
   "metadata": {},
   "source": [
    "### Install & import libraries"
   ]
  },
  {
   "cell_type": "code",
   "execution_count": 15,
   "id": "357ab32b",
   "metadata": {},
   "outputs": [],
   "source": [
    "# !pip install tensorflow\n",
    "# !pip install tensorflow-datasets\n",
    "# !pip install tensorflow-io\n",
    "# !pip install tensorflow-addons\n",
    "# !pip install librosa"
   ]
  },
  {
   "cell_type": "code",
   "execution_count": 16,
   "id": "65976e73",
   "metadata": {},
   "outputs": [],
   "source": [
    "from sklearn.model_selection import train_test_split\n",
    "\n",
    "from sklearn.utils import class_weight\n",
    "from sklearn.preprocessing import LabelEncoder\n",
    "from sklearn.preprocessing import OneHotEncoder\n",
    "import numpy as np\n",
    "\n",
    "from tensorflow.keras.models import Model\n",
    "from tensorflow.keras.layers import Input\n",
    "from tensorflow.keras.layers import Dense, Dropout\n",
    "from tensorflow.keras.layers import Flatten\n",
    "from tensorflow.keras.layers import Conv2D\n",
    "from tensorflow.keras.layers import MaxPooling2D\n",
    "from tensorflow.keras.utils import plot_model\n",
    "import tensorflow as tf\n",
    "from keras.models import Sequential\n",
    "import tensorflow_addons as tfa\n",
    "from plot_keras_history import plot_history\n",
    "\n",
    "from sklearn.metrics import confusion_matrix\n",
    "from sklearn.metrics import accuracy_score, f1_score, precision_score, recall_score\n"
   ]
  },
  {
   "cell_type": "markdown",
   "id": "690dce6a",
   "metadata": {},
   "source": [
    "### Librispeech dataset"
   ]
  },
  {
   "cell_type": "code",
   "execution_count": 17,
   "id": "4c1d0a43",
   "metadata": {},
   "outputs": [],
   "source": [
    "# import tensorflow_datasets as tfds\n",
    "\n",
    "# ds = tfds.load('librispeech', split='dev_clean',builder_kwargs={'config': 'lazy_decode'})"
   ]
  },
  {
   "cell_type": "markdown",
   "id": "3cc96e5a",
   "metadata": {},
   "source": [
    "### Navigate to path of dataset"
   ]
  },
  {
   "cell_type": "code",
   "execution_count": 18,
   "id": "33be1897",
   "metadata": {},
   "outputs": [
    {
     "name": "stdout",
     "output_type": "stream",
     "text": [
      "C:\\Users\\Gerard\\tensorflow_datasets\\dev-clean\n"
     ]
    }
   ],
   "source": [
    "%cd C:\\Users\\Gerard\\tensorflow_datasets\\dev-clean"
   ]
  },
  {
   "cell_type": "code",
   "execution_count": 19,
   "id": "a2ad93b4",
   "metadata": {},
   "outputs": [
    {
     "name": "stdout",
     "output_type": "stream",
     "text": [
      "Number of speakers:\n",
      "40\n"
     ]
    }
   ],
   "source": [
    "import os\n",
    "\n",
    "cwd = os.getcwd()\n",
    "\n",
    "os.listdir(cwd)\n",
    "\n",
    "listaudio = [] #list of audiofiles per speaker\n",
    "listpath = [] #list of speakers (path)\n",
    "listcat = [] #list of speakers\n",
    "\n",
    "for i,v in enumerate(os.listdir(cwd)):\n",
    "    path1 = os.path.join(cwd,v)\n",
    "    path2 = os.path.join(path1,os.listdir(path1)[0])\n",
    "    listpath.append(path2)\n",
    "    listaudio.append(os.listdir(path2))\n",
    "    listcat.append(v)\n",
    "\n",
    "# No. of speakers\n",
    "num_class = len(listcat)\n",
    "print(\"Number of speakers:\")\n",
    "print(num_class)"
   ]
  },
  {
   "cell_type": "markdown",
   "id": "cb6de8b6",
   "metadata": {},
   "source": [
    "### Convert audio files to MFCC features"
   ]
  },
  {
   "cell_type": "code",
   "execution_count": 20,
   "id": "2e7f1c3f",
   "metadata": {},
   "outputs": [
    {
     "name": "stdout",
     "output_type": "stream",
     "text": [
      "Shape of X_data: \n",
      "(395, 20, 94)\n",
      "Number of X_data samples: \n",
      "395\n",
      "MFCC shape: \n",
      "(20, 94)\n",
      "Number of y_data labels: \n",
      "395\n"
     ]
    }
   ],
   "source": [
    "import librosa\n",
    "import numpy as np\n",
    "\n",
    "ylen = []\n",
    "y_data = []\n",
    "\n",
    "samplenum = 10\n",
    "\n",
    "for i,v in enumerate(listpath):\n",
    "    num = 0    \n",
    "    for j,k in enumerate(listaudio[i]):        \n",
    "        if j != (len(listaudio[i])-1):\n",
    "            filename = os.path.join(v,k)\n",
    "            y, sr = librosa.load(filename, sr=16000)\n",
    "            if y.shape[0]>48000 and num<samplenum:\n",
    "                y1 = y[:48000]\n",
    "                mfccvec = librosa.feature.mfcc(y=y1, sr=sr)\n",
    "                num = num + 1\n",
    "                ylen.append(mfccvec)\n",
    "                y_data.append(listcat[i])\n",
    "        \n",
    "\n",
    "\n",
    "X_data = np.array(ylen)\n",
    "print('Shape of X_data: ')\n",
    "print(X_data.shape)\n",
    "print('Number of X_data samples: ')\n",
    "print(X_data.shape[0])\n",
    "print('MFCC shape: ')\n",
    "print(X_data.shape[1:3])\n",
    "print('Number of y_data labels: ')\n",
    "print(len(y_data))"
   ]
  },
  {
   "cell_type": "markdown",
   "id": "65ff6d31",
   "metadata": {},
   "source": [
    "### One-hot transformation for multiclass"
   ]
  },
  {
   "cell_type": "code",
   "execution_count": 21,
   "id": "6f01d516",
   "metadata": {},
   "outputs": [],
   "source": [
    "def onehot_transform(y_data):\n",
    "    onehot_encoder = OneHotEncoder(sparse=False)\n",
    "    y_data_onehot = onehot_encoder.fit_transform(np.array(y_data).reshape(-1, 1))\n",
    "    return y_data_onehot"
   ]
  },
  {
   "cell_type": "markdown",
   "id": "cb0725c4",
   "metadata": {},
   "source": [
    "### Split dataset into train and test"
   ]
  },
  {
   "cell_type": "code",
   "execution_count": 22,
   "id": "16a76d1b",
   "metadata": {},
   "outputs": [
    {
     "name": "stderr",
     "output_type": "stream",
     "text": [
      "C:\\Users\\Gerard\\anaconda3\\envs\\omdena2\\lib\\site-packages\\sklearn\\preprocessing\\_encoders.py:868: FutureWarning: `sparse` was renamed to `sparse_output` in version 1.2 and will be removed in 1.4. `sparse_output` is ignored unless you leave `sparse` to its default value.\n",
      "  warnings.warn(\n",
      "C:\\Users\\Gerard\\anaconda3\\envs\\omdena2\\lib\\site-packages\\sklearn\\preprocessing\\_encoders.py:868: FutureWarning: `sparse` was renamed to `sparse_output` in version 1.2 and will be removed in 1.4. `sparse_output` is ignored unless you leave `sparse` to its default value.\n",
      "  warnings.warn(\n"
     ]
    }
   ],
   "source": [
    "X_train, X_test, y_train, y_test = train_test_split(X_data, y_data, test_size=0.2, random_state=2, stratify = y_data)\n",
    "\n",
    "y_train_onehot = onehot_transform(y_train)\n",
    "y_test_onehot = onehot_transform(y_test)"
   ]
  },
  {
   "cell_type": "markdown",
   "id": "1dd4ae3a",
   "metadata": {},
   "source": [
    "### Build model"
   ]
  },
  {
   "cell_type": "code",
   "execution_count": 23,
   "id": "7b79669a",
   "metadata": {},
   "outputs": [
    {
     "name": "stdout",
     "output_type": "stream",
     "text": [
      "Model: \"sequential\"\n",
      "_________________________________________________________________\n",
      " Layer (type)                Output Shape              Param #   \n",
      "=================================================================\n",
      " conv2d (Conv2D)             (None, 20, 94, 64)        320       \n",
      "                                                                 \n",
      " max_pooling2d (MaxPooling2D  (None, 10, 47, 64)       0         \n",
      " )                                                               \n",
      "                                                                 \n",
      " dropout (Dropout)           (None, 10, 47, 64)        0         \n",
      "                                                                 \n",
      " conv2d_1 (Conv2D)           (None, 10, 47, 32)        8224      \n",
      "                                                                 \n",
      " max_pooling2d_1 (MaxPooling  (None, 5, 23, 32)        0         \n",
      " 2D)                                                             \n",
      "                                                                 \n",
      " dropout_1 (Dropout)         (None, 5, 23, 32)         0         \n",
      "                                                                 \n",
      " flatten (Flatten)           (None, 3680)              0         \n",
      "                                                                 \n",
      " dense (Dense)               (None, 40)                147240    \n",
      "                                                                 \n",
      "=================================================================\n",
      "Total params: 155,784\n",
      "Trainable params: 155,784\n",
      "Non-trainable params: 0\n",
      "_________________________________________________________________\n"
     ]
    }
   ],
   "source": [
    "model = Sequential()\n",
    "model.add(Conv2D(filters=64, kernel_size=2, padding='same', activation='relu', input_shape=(20,94,1)),)\n",
    "model.add(MaxPooling2D(pool_size=2))\n",
    "model.add(Dropout(0.2))\n",
    "model.add(Conv2D(filters=32, kernel_size=2, padding='same', activation='relu'),)\n",
    "model.add(MaxPooling2D(pool_size=2))\n",
    "model.add(Dropout(0.2))\n",
    "model.add(Flatten())\n",
    "model.add(Dense(num_class, activation='softmax'))\n",
    "model.compile(optimizer='adam',\n",
    "              loss='categorical_crossentropy',\n",
    "                      metrics=['accuracy'])\n",
    "model.summary()"
   ]
  },
  {
   "cell_type": "markdown",
   "id": "1b4d2c6a",
   "metadata": {},
   "source": [
    "### Train model"
   ]
  },
  {
   "cell_type": "code",
   "execution_count": 24,
   "id": "112f8cee",
   "metadata": {},
   "outputs": [
    {
     "name": "stdout",
     "output_type": "stream",
     "text": [
      "Epoch 1/20\n",
      "79/79 [==============================] - 1s 6ms/step - loss: 8.8055 - accuracy: 0.0348\n",
      "Epoch 2/20\n",
      "79/79 [==============================] - 0s 6ms/step - loss: 2.9862 - accuracy: 0.1709\n",
      "Epoch 3/20\n",
      "79/79 [==============================] - 0s 6ms/step - loss: 1.5925 - accuracy: 0.5538\n",
      "Epoch 4/20\n",
      "79/79 [==============================] - 0s 6ms/step - loss: 0.6099 - accuracy: 0.8006\n",
      "Epoch 5/20\n",
      "79/79 [==============================] - 0s 6ms/step - loss: 0.2644 - accuracy: 0.9082\n",
      "Epoch 6/20\n",
      "79/79 [==============================] - 0s 6ms/step - loss: 0.1681 - accuracy: 0.9494\n",
      "Epoch 7/20\n",
      "79/79 [==============================] - 0s 6ms/step - loss: 0.0489 - accuracy: 0.9842\n",
      "Epoch 8/20\n",
      "79/79 [==============================] - 1s 6ms/step - loss: 0.0444 - accuracy: 0.9842\n",
      "Epoch 9/20\n",
      "79/79 [==============================] - 0s 6ms/step - loss: 0.0283 - accuracy: 0.9905\n",
      "Epoch 10/20\n",
      "79/79 [==============================] - 0s 6ms/step - loss: 0.0654 - accuracy: 0.9778\n",
      "Epoch 11/20\n",
      "79/79 [==============================] - 0s 6ms/step - loss: 0.0611 - accuracy: 0.9873\n",
      "Epoch 12/20\n",
      "79/79 [==============================] - 1s 6ms/step - loss: 0.0274 - accuracy: 0.9905\n",
      "Epoch 13/20\n",
      "79/79 [==============================] - 0s 6ms/step - loss: 0.0399 - accuracy: 0.9842\n",
      "Epoch 14/20\n",
      "79/79 [==============================] - 0s 6ms/step - loss: 0.0030 - accuracy: 1.0000\n",
      "Epoch 15/20\n",
      "79/79 [==============================] - 0s 6ms/step - loss: 0.0017 - accuracy: 1.0000\n",
      "Epoch 16/20\n",
      "79/79 [==============================] - 0s 6ms/step - loss: 0.0110 - accuracy: 0.9968\n",
      "Epoch 17/20\n",
      "79/79 [==============================] - 1s 7ms/step - loss: 0.0249 - accuracy: 0.9968\n",
      "Epoch 18/20\n",
      "79/79 [==============================] - 0s 6ms/step - loss: 0.0039 - accuracy: 1.0000\n",
      "Epoch 19/20\n",
      "79/79 [==============================] - 0s 6ms/step - loss: 0.0686 - accuracy: 0.9778\n",
      "Epoch 20/20\n",
      "79/79 [==============================] - 0s 5ms/step - loss: 0.0467 - accuracy: 0.9873\n",
      "10/10 [==============================] - 0s 10ms/step - loss: 0.0111 - accuracy: 0.9968\n",
      "Training Accuracy: 0.9968\n",
      "Testing Accuracy:  0.5443\n"
     ]
    },
    {
     "data": {
      "text/plain": [
       "(<Figure size 1000x500 with 2 Axes>,\n",
       " array([<Axes: title={'center': 'Loss'}, xlabel='Epochs', ylabel='Loss'>,\n",
       "        <Axes: title={'center': 'Accuracy'}, xlabel='Epochs', ylabel='Accuracy'>],\n",
       "       dtype=object))"
      ]
     },
     "execution_count": 24,
     "metadata": {},
     "output_type": "execute_result"
    },
    {
     "data": {
      "image/png": "[encoded data removed]",
      "text/plain": [
       "<Figure size 1000x500 with 2 Axes>"
      ]
     },
     "metadata": {},
     "output_type": "display_data"
    }
   ],
   "source": [
    "hist = model.fit(X_train, y_train_onehot,\n",
    "                            epochs=20,\n",
    "                            verbose=True,\n",
    "                            batch_size=4).history\n",
    "\n",
    "loss, accuracy = model.evaluate(X_train, y_train_onehot, verbose=True)\n",
    "print(\"Training Accuracy: {:.4f}\".format(accuracy))\n",
    "loss, accuracy = model.evaluate(X_test, y_test_onehot, verbose=False)\n",
    "print(\"Testing Accuracy:  {:.4f}\".format(accuracy))\n",
    "plot_history(hist)"
   ]
  },
  {
   "cell_type": "code",
   "execution_count": 25,
   "id": "678cbdbd",
   "metadata": {},
   "outputs": [
    {
     "name": "stdout",
     "output_type": "stream",
     "text": [
      "3/3 [==============================] - 0s 5ms/step\n",
      "Predicted labels:\n",
      "[36 35  5 15  2 14 15  1 35  5 16 21 19 27  5 11 20  4 18  1  5 16 14  2\n",
      " 32 31 10 26 31 16  7 23 36 30 11 31 31 18 14  5  6 27 30 11 39 14  5 35\n",
      " 37 29  3 23  0 13 30  0 18 37 12 29 25 17  3 18 34  4 20 13 35 20  1 18\n",
      "  6 32 25 20 24 32 27]\n",
      "Actual labels:\n",
      "[36  8 28 15  2 17 15 24  4 22 16 21 19 27 39 11 38 26 18  7 22 37  4  2\n",
      " 35  3 10 34 12 16  7 23 36 30 11  5 19 10  9 31  6 28 31  5 14 33 33 35\n",
      " 37 29  3 23  0 13 30  0 18 38 12 29 25 17 14 26 34 20 39 13  1  8  1 21\n",
      "  6 32 25 20 24 32 27]\n",
      "Confusion matrix:\n",
      "[[2 0 0 ... 0 0 0]\n",
      " [0 1 0 ... 0 0 0]\n",
      " [0 0 2 ... 0 0 0]\n",
      " ...\n",
      " [0 0 0 ... 1 0 0]\n",
      " [0 0 0 ... 1 0 0]\n",
      " [0 0 0 ... 0 0 0]]\n",
      "Accuracy:\n",
      "0.5443037974683544\n"
     ]
    }
   ],
   "source": [
    "y_prediction = model.predict(X_test)\n",
    "y_prediction = np.argmax(y_prediction, axis = 1)\n",
    "print(\"Predicted labels:\")\n",
    "print(y_prediction)\n",
    "\n",
    "y_test1 = np.argmax(y_test_onehot, axis = 1)\n",
    "print(\"Actual labels:\")\n",
    "print(y_test1)\n",
    "\n",
    "confmat = confusion_matrix(y_test1, y_prediction)\n",
    "print(\"Confusion matrix:\")\n",
    "print(confmat)\n",
    "\n",
    "accscore = accuracy_score(y_test1,y_prediction)\n",
    "print(\"Accuracy:\")\n",
    "print(accscore)"
   ]
  }
 ],
 "metadata": {
  "kernelspec": {
   "display_name": "Python 3 (ipykernel)",
   "language": "python",
   "name": "python3"
  },
  "language_info": {
   "codemirror_mode": {
    "name": "ipython",
    "version": 3
   },
   "file_extension": ".py",
   "mimetype": "text/x-python",
   "name": "python",
   "nbconvert_exporter": "python",
   "pygments_lexer": "ipython3",
   "version": "3.9.16"
  }
 },
 "nbformat": 4,
 "nbformat_minor": 5
}
